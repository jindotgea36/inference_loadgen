{
 "cells": [
  {
   "cell_type": "code",
   "execution_count": 1,
   "metadata": {},
   "outputs": [
    {
     "name": "stdout",
     "output_type": "stream",
     "text": [
      "Python 3.8.3\r\n"
     ]
    }
   ],
   "source": [
    "!python --version"
   ]
  },
  {
   "cell_type": "code",
   "execution_count": 2,
   "metadata": {},
   "outputs": [],
   "source": [
    "import os"
   ]
  },
  {
   "cell_type": "code",
   "execution_count": 3,
   "metadata": {},
   "outputs": [],
   "source": [
    "root = os.getcwd()"
   ]
  },
  {
   "cell_type": "code",
   "execution_count": 4,
   "metadata": {},
   "outputs": [
    {
     "name": "stdout",
     "output_type": "stream",
     "text": [
      "/bin/bash: line 0: cd: ../../loadgen: No such file or directory\n",
      "fatal: Needed a single revision\n",
      "fatal: your current branch 'master' does not have any commits yet\n",
      "fatal: your current branch 'master' does not have any commits yet\n",
      "running develop\n",
      "running egg_info\n",
      "writing mlperf_loadgen.egg-info/PKG-INFO\n",
      "writing dependency_links to mlperf_loadgen.egg-info/dependency_links.txt\n",
      "writing top-level names to mlperf_loadgen.egg-info/top_level.txt\n",
      "reading manifest file 'mlperf_loadgen.egg-info/SOURCES.txt'\n",
      "writing manifest file 'mlperf_loadgen.egg-info/SOURCES.txt'\n",
      "running build_ext\n",
      "building 'mlperf_loadgen' extension\n",
      "gcc -pthread -B /root/anaconda3/compiler_compat -Wl,--sysroot=/ -Wsign-compare -DNDEBUG -g -fwrapv -O3 -Wall -Wstrict-prototypes -fPIC -DMAJOR_VERSION=0 -DMINOR_VERSION=5 -I. -I../third_party/pybind/include -I/root/anaconda3/include/python3.8 -c issue_query_controller.cc -o build/temp.linux-x86_64-3.8/issue_query_controller.o\n",
      "\u001b[01m\u001b[Kcc1plus:\u001b[m\u001b[K \u001b[01;35m\u001b[Kwarning: \u001b[m\u001b[Kcommand line option ‘\u001b[01m\u001b[K-Wstrict-prototypes\u001b[m\u001b[K’ is valid for C/ObjC but not for C++\n",
      "gcc -pthread -B /root/anaconda3/compiler_compat -Wl,--sysroot=/ -Wsign-compare -DNDEBUG -g -fwrapv -O3 -Wall -Wstrict-prototypes -fPIC -DMAJOR_VERSION=0 -DMINOR_VERSION=5 -I. -I../third_party/pybind/include -I/root/anaconda3/include/python3.8 -c loadgen.cc -o build/temp.linux-x86_64-3.8/loadgen.o\n",
      "\u001b[01m\u001b[Kcc1plus:\u001b[m\u001b[K \u001b[01;35m\u001b[Kwarning: \u001b[m\u001b[Kcommand line option ‘\u001b[01m\u001b[K-Wstrict-prototypes\u001b[m\u001b[K’ is valid for C/ObjC but not for C++\n",
      "gcc -pthread -B /root/anaconda3/compiler_compat -Wl,--sysroot=/ -Wsign-compare -DNDEBUG -g -fwrapv -O3 -Wall -Wstrict-prototypes -fPIC -DMAJOR_VERSION=0 -DMINOR_VERSION=5 -I. -I../third_party/pybind/include -I/root/anaconda3/include/python3.8 -c logging.cc -o build/temp.linux-x86_64-3.8/logging.o\n",
      "\u001b[01m\u001b[Kcc1plus:\u001b[m\u001b[K \u001b[01;35m\u001b[Kwarning: \u001b[m\u001b[Kcommand line option ‘\u001b[01m\u001b[K-Wstrict-prototypes\u001b[m\u001b[K’ is valid for C/ObjC but not for C++\n",
      "gcc -pthread -B /root/anaconda3/compiler_compat -Wl,--sysroot=/ -Wsign-compare -DNDEBUG -g -fwrapv -O3 -Wall -Wstrict-prototypes -fPIC -DMAJOR_VERSION=0 -DMINOR_VERSION=5 -I. -I../third_party/pybind/include -I/root/anaconda3/include/python3.8 -c test_settings_internal.cc -o build/temp.linux-x86_64-3.8/test_settings_internal.o\n",
      "\u001b[01m\u001b[Kcc1plus:\u001b[m\u001b[K \u001b[01;35m\u001b[Kwarning: \u001b[m\u001b[Kcommand line option ‘\u001b[01m\u001b[K-Wstrict-prototypes\u001b[m\u001b[K’ is valid for C/ObjC but not for C++\n",
      "gcc -pthread -B /root/anaconda3/compiler_compat -Wl,--sysroot=/ -Wsign-compare -DNDEBUG -g -fwrapv -O3 -Wall -Wstrict-prototypes -fPIC -DMAJOR_VERSION=0 -DMINOR_VERSION=5 -I. -I../third_party/pybind/include -I/root/anaconda3/include/python3.8 -c utils.cc -o build/temp.linux-x86_64-3.8/utils.o\n",
      "\u001b[01m\u001b[Kcc1plus:\u001b[m\u001b[K \u001b[01;35m\u001b[Kwarning: \u001b[m\u001b[Kcommand line option ‘\u001b[01m\u001b[K-Wstrict-prototypes\u001b[m\u001b[K’ is valid for C/ObjC but not for C++\n",
      "gcc -pthread -B /root/anaconda3/compiler_compat -Wl,--sysroot=/ -Wsign-compare -DNDEBUG -g -fwrapv -O3 -Wall -Wstrict-prototypes -fPIC -DMAJOR_VERSION=0 -DMINOR_VERSION=5 -I. -I../third_party/pybind/include -I/root/anaconda3/include/python3.8 -c version.cc -o build/temp.linux-x86_64-3.8/version.o\n",
      "\u001b[01m\u001b[Kcc1plus:\u001b[m\u001b[K \u001b[01;35m\u001b[Kwarning: \u001b[m\u001b[Kcommand line option ‘\u001b[01m\u001b[K-Wstrict-prototypes\u001b[m\u001b[K’ is valid for C/ObjC but not for C++\n",
      "gcc -pthread -B /root/anaconda3/compiler_compat -Wl,--sysroot=/ -Wsign-compare -DNDEBUG -g -fwrapv -O3 -Wall -Wstrict-prototypes -fPIC -DMAJOR_VERSION=0 -DMINOR_VERSION=5 -I. -I../third_party/pybind/include -I/root/anaconda3/include/python3.8 -c bindings/python_api.cc -o build/temp.linux-x86_64-3.8/bindings/python_api.o\n",
      "\u001b[01m\u001b[Kcc1plus:\u001b[m\u001b[K \u001b[01;35m\u001b[Kwarning: \u001b[m\u001b[Kcommand line option ‘\u001b[01m\u001b[K-Wstrict-prototypes\u001b[m\u001b[K’ is valid for C/ObjC but not for C++\n",
      "\u001b[01m\u001b[Kbindings/python_api.cc:223:16:\u001b[m\u001b[K \u001b[01;31m\u001b[Kerror: \u001b[m\u001b[Kexpected constructor, destructor, or type conversion before ‘\u001b[01m\u001b[K(\u001b[m\u001b[K’ token\n",
      " PYBIND11_MODULE\u001b[01;31m\u001b[K(\u001b[m\u001b[Kmlperf_loadgen, m) {\n",
      "                \u001b[01;31m\u001b[K^\u001b[m\u001b[K\n",
      "error: command 'gcc' failed with exit status 1\n"
     ]
    }
   ],
   "source": [
    "!cd ../../loadgen; python setup.py develop; cd {root}"
   ]
  },
  {
   "cell_type": "code",
   "execution_count": 5,
   "metadata": {},
   "outputs": [
    {
     "name": "stdout",
     "output_type": "stream",
     "text": [
      "\u001b[0m\u001b[01;34mbenchmark\u001b[0m/                       query_sample.h\r\n",
      "\u001b[01;34mbindings\u001b[0m/                        query_sample_library.h\r\n",
      "\u001b[01;34mbuild\u001b[0m/                           README_BUILD.md\r\n",
      "BUILD.gn                         README_FAQ.md\r\n",
      "CMakeLists.txt                   README.md\r\n",
      "\u001b[01;34mdemos\u001b[0m/                           setup.py\r\n",
      "\u001b[01;34mdepot_tools\u001b[0m/                     system_under_test.h\r\n",
      "\u001b[01;34mdocs\u001b[0m/                            \u001b[01;34mtests\u001b[0m/\r\n",
      "\u001b[01;34mgenerated\u001b[0m/                       test_settings.h\r\n",
      "issue_query_controller.cc        test_settings_internal.cc\r\n",
      "issue_query_controller.h         test_settings_internal.h\r\n",
      "loadgen.cc                       Untitled.ipynb\r\n",
      "loadgen.h                        utils.cc\r\n",
      "\u001b[01;35mloadgen_integration_diagram.svg\u001b[0m  utils.h\r\n",
      "logging.cc                       version.cc\r\n",
      "logging.h                        version_generator.py\r\n",
      "\u001b[01;34mmlperf_loadgen.egg-info\u001b[0m/         version_generator.pyc\r\n",
      "\u001b[01;34m__pycache__\u001b[0m/                     version.h\r\n"
     ]
    }
   ],
   "source": [
    "ls"
   ]
  },
  {
   "cell_type": "code",
   "execution_count": 6,
   "metadata": {},
   "outputs": [
    {
     "data": {
      "text/plain": [
       "'/home/lsdtech/inference-master/loadgen'"
      ]
     },
     "execution_count": 6,
     "metadata": {},
     "output_type": "execute_result"
    }
   ],
   "source": [
    "pwd"
   ]
  },
  {
   "cell_type": "code",
   "execution_count": 7,
   "metadata": {},
   "outputs": [
    {
     "ename": "SyntaxError",
     "evalue": "invalid syntax (<ipython-input-7-24073a858217>, line 1)",
     "output_type": "error",
     "traceback": [
      "\u001b[0;36m  File \u001b[0;32m\"<ipython-input-7-24073a858217>\"\u001b[0;36m, line \u001b[0;32m1\u001b[0m\n\u001b[0;31m    python setup.py develop; cd {root}\u001b[0m\n\u001b[0m           ^\u001b[0m\n\u001b[0;31mSyntaxError\u001b[0m\u001b[0;31m:\u001b[0m invalid syntax\n"
     ]
    }
   ],
   "source": [
    "python setup.py develop; cd {root}"
   ]
  },
  {
   "cell_type": "code",
   "execution_count": 8,
   "metadata": {},
   "outputs": [
    {
     "name": "stdout",
     "output_type": "stream",
     "text": [
      "fatal: Needed a single revision\n",
      "fatal: your current branch 'master' does not have any commits yet\n",
      "fatal: your current branch 'master' does not have any commits yet\n",
      "running develop\n",
      "running egg_info\n",
      "writing mlperf_loadgen.egg-info/PKG-INFO\n",
      "writing dependency_links to mlperf_loadgen.egg-info/dependency_links.txt\n",
      "writing top-level names to mlperf_loadgen.egg-info/top_level.txt\n",
      "reading manifest file 'mlperf_loadgen.egg-info/SOURCES.txt'\n",
      "writing manifest file 'mlperf_loadgen.egg-info/SOURCES.txt'\n",
      "running build_ext\n",
      "building 'mlperf_loadgen' extension\n",
      "gcc -pthread -B /root/anaconda3/compiler_compat -Wl,--sysroot=/ -Wsign-compare -DNDEBUG -g -fwrapv -O3 -Wall -Wstrict-prototypes -fPIC -DMAJOR_VERSION=0 -DMINOR_VERSION=5 -I. -I../third_party/pybind/include -I/root/anaconda3/include/python3.8 -c issue_query_controller.cc -o build/temp.linux-x86_64-3.8/issue_query_controller.o\n",
      "\u001b[01m\u001b[Kcc1plus:\u001b[m\u001b[K \u001b[01;35m\u001b[Kwarning: \u001b[m\u001b[Kcommand line option ‘\u001b[01m\u001b[K-Wstrict-prototypes\u001b[m\u001b[K’ is valid for C/ObjC but not for C++\n",
      "gcc -pthread -B /root/anaconda3/compiler_compat -Wl,--sysroot=/ -Wsign-compare -DNDEBUG -g -fwrapv -O3 -Wall -Wstrict-prototypes -fPIC -DMAJOR_VERSION=0 -DMINOR_VERSION=5 -I. -I../third_party/pybind/include -I/root/anaconda3/include/python3.8 -c loadgen.cc -o build/temp.linux-x86_64-3.8/loadgen.o\n",
      "\u001b[01m\u001b[Kcc1plus:\u001b[m\u001b[K \u001b[01;35m\u001b[Kwarning: \u001b[m\u001b[Kcommand line option ‘\u001b[01m\u001b[K-Wstrict-prototypes\u001b[m\u001b[K’ is valid for C/ObjC but not for C++\n",
      "gcc -pthread -B /root/anaconda3/compiler_compat -Wl,--sysroot=/ -Wsign-compare -DNDEBUG -g -fwrapv -O3 -Wall -Wstrict-prototypes -fPIC -DMAJOR_VERSION=0 -DMINOR_VERSION=5 -I. -I../third_party/pybind/include -I/root/anaconda3/include/python3.8 -c logging.cc -o build/temp.linux-x86_64-3.8/logging.o\n",
      "\u001b[01m\u001b[Kcc1plus:\u001b[m\u001b[K \u001b[01;35m\u001b[Kwarning: \u001b[m\u001b[Kcommand line option ‘\u001b[01m\u001b[K-Wstrict-prototypes\u001b[m\u001b[K’ is valid for C/ObjC but not for C++\n",
      "gcc -pthread -B /root/anaconda3/compiler_compat -Wl,--sysroot=/ -Wsign-compare -DNDEBUG -g -fwrapv -O3 -Wall -Wstrict-prototypes -fPIC -DMAJOR_VERSION=0 -DMINOR_VERSION=5 -I. -I../third_party/pybind/include -I/root/anaconda3/include/python3.8 -c test_settings_internal.cc -o build/temp.linux-x86_64-3.8/test_settings_internal.o\n",
      "\u001b[01m\u001b[Kcc1plus:\u001b[m\u001b[K \u001b[01;35m\u001b[Kwarning: \u001b[m\u001b[Kcommand line option ‘\u001b[01m\u001b[K-Wstrict-prototypes\u001b[m\u001b[K’ is valid for C/ObjC but not for C++\n",
      "gcc -pthread -B /root/anaconda3/compiler_compat -Wl,--sysroot=/ -Wsign-compare -DNDEBUG -g -fwrapv -O3 -Wall -Wstrict-prototypes -fPIC -DMAJOR_VERSION=0 -DMINOR_VERSION=5 -I. -I../third_party/pybind/include -I/root/anaconda3/include/python3.8 -c utils.cc -o build/temp.linux-x86_64-3.8/utils.o\n",
      "\u001b[01m\u001b[Kcc1plus:\u001b[m\u001b[K \u001b[01;35m\u001b[Kwarning: \u001b[m\u001b[Kcommand line option ‘\u001b[01m\u001b[K-Wstrict-prototypes\u001b[m\u001b[K’ is valid for C/ObjC but not for C++\n",
      "gcc -pthread -B /root/anaconda3/compiler_compat -Wl,--sysroot=/ -Wsign-compare -DNDEBUG -g -fwrapv -O3 -Wall -Wstrict-prototypes -fPIC -DMAJOR_VERSION=0 -DMINOR_VERSION=5 -I. -I../third_party/pybind/include -I/root/anaconda3/include/python3.8 -c version.cc -o build/temp.linux-x86_64-3.8/version.o\n",
      "\u001b[01m\u001b[Kcc1plus:\u001b[m\u001b[K \u001b[01;35m\u001b[Kwarning: \u001b[m\u001b[Kcommand line option ‘\u001b[01m\u001b[K-Wstrict-prototypes\u001b[m\u001b[K’ is valid for C/ObjC but not for C++\n",
      "gcc -pthread -B /root/anaconda3/compiler_compat -Wl,--sysroot=/ -Wsign-compare -DNDEBUG -g -fwrapv -O3 -Wall -Wstrict-prototypes -fPIC -DMAJOR_VERSION=0 -DMINOR_VERSION=5 -I. -I../third_party/pybind/include -I/root/anaconda3/include/python3.8 -c bindings/python_api.cc -o build/temp.linux-x86_64-3.8/bindings/python_api.o\n",
      "\u001b[01m\u001b[Kcc1plus:\u001b[m\u001b[K \u001b[01;35m\u001b[Kwarning: \u001b[m\u001b[Kcommand line option ‘\u001b[01m\u001b[K-Wstrict-prototypes\u001b[m\u001b[K’ is valid for C/ObjC but not for C++\n",
      "\u001b[01m\u001b[Kbindings/python_api.cc:223:16:\u001b[m\u001b[K \u001b[01;31m\u001b[Kerror: \u001b[m\u001b[Kexpected constructor, destructor, or type conversion before ‘\u001b[01m\u001b[K(\u001b[m\u001b[K’ token\n",
      " PYBIND11_MODULE\u001b[01;31m\u001b[K(\u001b[m\u001b[Kmlperf_loadgen, m) {\n",
      "                \u001b[01;31m\u001b[K^\u001b[m\u001b[K\n",
      "error: command 'gcc' failed with exit status 1\n"
     ]
    }
   ],
   "source": [
    "!python setup.py develop; cd {root}"
   ]
  },
  {
   "cell_type": "code",
   "execution_count": null,
   "metadata": {},
   "outputs": [],
   "source": []
  }
 ],
 "metadata": {
  "kernelspec": {
   "display_name": "Python 3",
   "language": "python",
   "name": "python3"
  },
  "language_info": {
   "codemirror_mode": {
    "name": "ipython",
    "version": 3
   },
   "file_extension": ".py",
   "mimetype": "text/x-python",
   "name": "python",
   "nbconvert_exporter": "python",
   "pygments_lexer": "ipython3",
   "version": "3.8.3"
  }
 },
 "nbformat": 4,
 "nbformat_minor": 4
}
